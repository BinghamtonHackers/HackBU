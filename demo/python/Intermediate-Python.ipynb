{
 "cells": [
  {
   "cell_type": "markdown",
   "metadata": {},
   "source": [
    "# Introduction"
   ]
  },
  {
   "cell_type": "markdown",
   "metadata": {},
   "source": [
    "Welcome to Intermediate Topics in Python! The focus of this lesson will be writing cleaner and more maintainable Python code. \n",
    "\n",
    "Agenda:\n",
    "Functions\n",
    "Classes"
   ]
  },
  {
   "cell_type": "markdown",
   "metadata": {},
   "source": [
    "# The DRY Principle"
   ]
  },
  {
   "cell_type": "markdown",
   "metadata": {},
   "source": [
    "**D**on't\n",
    "**R**epeat\n",
    "**Y**ourself\n",
    "\n",
    "If you need to repeat a process, make sure you're not reusing code you've already written. A programmer's goal is to be as lazy as possible.\n",
    "\n",
    "Using loops, functions, and classes are all ways of condensing your code."
   ]
  },
  {
   "cell_type": "markdown",
   "metadata": {},
   "source": [
    "# Functions"
   ]
  },
  {
   "cell_type": "markdown",
   "metadata": {},
   "source": [
    "# Why we need functions"
   ]
  },
  {
   "cell_type": "markdown",
   "metadata": {},
   "source": [
    "Say we are given a string and we need to generate its character map.\n",
    "\n",
    "For instance, if we are given the string \"Hello\", we want to generate the following dictionary:\n",
    "````\n",
    "{\n",
    "    \"H\": 1,\n",
    "    \"e\": 1,\n",
    "    \"l\": 2,\n",
    "    \"o\":, 1\n",
    "}\n",
    "````\n",
    "\n",
    "If we now want to do this for several strings, a naive solution without functions is as follows:\n",
    "````\n",
    "hello_dict = {}\n",
    "hello = \"Hello\"\n",
    "\n",
    "for c in hello:\n",
    "    if c in hello_dict:\n",
    "        hello_dict[c] += 1\n",
    "    else:\n",
    "        hello_dict[c] = 1\n",
    "        \n",
    "foo_dict = {}\n",
    "foo = \"foo\"\n",
    "\n",
    "for c in foo:\n",
    "    if c in foo_dict:\n",
    "        foo_dict[c] += 1\n",
    "        \n",
    "    else:\n",
    "        foo_dict[c] = 1\n",
    "````\n",
    "\n",
    "While this may not seem too bad for two strings, imagine doing this for thousands of strings. This is where functions come in."
   ]
  },
  {
   "cell_type": "markdown",
   "metadata": {},
   "source": [
    "# Basic function syntax"
   ]
  },
  {
   "cell_type": "markdown",
   "metadata": {},
   "source": [
    "The syntax for defining a function is as follows:\n",
    "\n",
    "````\n",
    "def foo(num):\n",
    "    print(\"bar\" * num)\n",
    "````\n",
    "\n",
    "`def` specifies that we are defining a function.\n",
    "\n",
    "`foo` is the name of the function.\n",
    "\n",
    "`num` is a parameter, which is just some data that gets passed in.\n",
    "\n",
    "Since there is no `return` statement, this function returns nothing.\n",
    "\n",
    "\n",
    "Given this function, if we want to see \"barbarbarbar\" in our console, we would do\n",
    "\n",
    "````\n",
    "foo(4)\n",
    "````\n",
    "When we pass 4 as a parameter, `num` becomes equal to 4 for the remainder of the function. Once we get out of the function, `num` will no longer exist.\n",
    "\n",
    "What if we want to take `x`, perform `foo(x)`, and then perform `bar()` on this new value? We'll have to use a `return` statement for this.\n",
    "\n",
    "````\n",
    "def foo(num):\n",
    "    return \"bar\" * num\n",
    "    \n",
    "def bar(string):\n",
    "    return string[::-1]\n",
    "    \n",
    "print(foo(2)) # prints barbar\n",
    "print(bar(\"barbar\")) # prints rabrab\n",
    "\n",
    "print(bar(foo(2)) # also prints rabrab\n",
    "````\n",
    "\n",
    "\n",
    "Python is a duck-typed language, so there's no need to specify a function's return type or the types of its parameters.\n",
    "\n",
    "    "
   ]
  },
  {
   "cell_type": "code",
   "execution_count": 6,
   "metadata": {},
   "outputs": [
    {
     "name": "stdout",
     "output_type": "stream",
     "text": [
      "0x foxfoxfoxfox\n"
     ]
    }
   ],
   "source": [
    "def foo(num):\n",
    "    print(\"0x\", \"fox\" * num)\n",
    "foo(4)"
   ]
  },
  {
   "cell_type": "markdown",
   "metadata": {},
   "source": [
    "````\n",
    "hello_dict = {}\n",
    "hello = \"Hello\"\n",
    "\n",
    "for c in hello:\n",
    "    if c in hello_dict:\n",
    "        hello_dict[c] += 1\n",
    "    else:\n",
    "        hello_dict[c] = 1\n",
    "        \n",
    "foo_dict = {}\n",
    "foo = \"foo\"\n",
    "\n",
    "for c in foo:\n",
    "    if c in foo_dict:\n",
    "        foo_dict[c] += 1\n",
    "        \n",
    "    else:\n",
    "        foo_dict[c] = 1\n",
    "````"
   ]
  },
  {
   "cell_type": "markdown",
   "metadata": {},
   "source": [
    "# Condensing the provided code with functions"
   ]
  },
  {
   "cell_type": "code",
   "execution_count": 7,
   "metadata": {},
   "outputs": [
    {
     "name": "stdout",
     "output_type": "stream",
     "text": [
      "{'H': 1, 'e': 1, 'l': 2, 'o': 1}\n"
     ]
    }
   ],
   "source": [
    "def get_char_map(string):\n",
    "    string_dict = {}\n",
    "    \n",
    "    for c in string:\n",
    "        if c in string_dict:\n",
    "            string_dict[c] += 1\n",
    "        else:\n",
    "            string_dict[c] = 1\n",
    "            \n",
    "    return string_dict\n",
    "        \n",
    "print(get_char_map(\"Hello\"))"
   ]
  },
  {
   "cell_type": "markdown",
   "metadata": {},
   "source": [
    "# Intermediate function syntax"
   ]
  },
  {
   "cell_type": "markdown",
   "metadata": {},
   "source": [
    "# Optional arguments"
   ]
  },
  {
   "cell_type": "markdown",
   "metadata": {},
   "source": [
    "Python supports optional arguments for functions. The way these work is relatively straightforward - you can set some default value for a parameter `x`, but if a user specifies a value for `x`, then that value will be used.\n",
    "\n",
    "Example:    "
   ]
  },
  {
   "cell_type": "code",
   "execution_count": 13,
   "metadata": {},
   "outputs": [
    {
     "name": "stdout",
     "output_type": "stream",
     "text": [
      "barbar\n"
     ]
    }
   ],
   "source": [
    "def foo(**kwargs):\n",
    "#     print(**kwargs)\n",
    "    print(\"bar\" * kwargs[\"num\"])\n",
    "\n",
    "# foo()\n",
    "foo(num=2)"
   ]
  },
  {
   "cell_type": "markdown",
   "metadata": {},
   "source": [
    "# Type hints"
   ]
  },
  {
   "cell_type": "markdown",
   "metadata": {},
   "source": [
    "Type hints are Python's way of making duck typing more readable. With type hints, we can specify the expected value of our function's parameters and return value.\n",
    "\n",
    "Take the code we wrote for the character map, for instance.\n",
    "\n",
    "````\n",
    "def char_map(string):\n",
    "    char_map = {}\n",
    "    \n",
    "    for c in string:\n",
    "        if c in char_map:\n",
    "            char_map[c] += 1\n",
    "        else:\n",
    "            char_map[c] = 1\n",
    "            \n",
    "    return char_map\n",
    "    \n",
    "````\n",
    "\n",
    "To specify to the user that the input type will be a `str`, and the return value will be a `dict`. To do so, we will change the function declaration to\n",
    "\n",
    "```\n",
    "def char_map(string: str) -> dict:\n",
    "```\n",
    "\n",
    "Keep in mind that type hints have no effect on the execution of the program. A user can still pass an integer or a list as a parameter of the function."
   ]
  },
  {
   "cell_type": "markdown",
   "metadata": {},
   "source": [
    "# Classes"
   ]
  },
  {
   "cell_type": "markdown",
   "metadata": {},
   "source": [
    "# Introduction to classes"
   ]
  },
  {
   "cell_type": "markdown",
   "metadata": {},
   "source": [
    "Classes are a way to make your code focus on data, rather than actions. Classes group your data with possible actions it may perform.\n",
    "\n",
    "Say we want to create a model for every student in Binghamton University. Every student has a name, a B-Number, and a major. We should also keep track of the student's position, and give them a `go_to_class` method so they don't fail all their classes.\n",
    "\n",
    "We can model this information with Python as follows:\n",
    "````\n",
    "class Student:\n",
    "    def __init__(self, name: str, b_number: str, major: str, position: str) -> None:\n",
    "        self.name = name\n",
    "        self.b_number = b_number\n",
    "        self.major = major\n",
    "        self.position = position\n",
    "    \n",
    "    def go_to_class(self, class_location: str) -> None:\n",
    "        self.position = class_location\n",
    "        \n",
    "\n",
    "tom = Student(\"Tom\", \"B1001001\", \"Computer Science\", \"EB G7\")\n",
    "tom.go_to_class(\"Fine Arts 212\")\n",
    "\n",
    "````\n",
    "\n"
   ]
  },
  {
   "cell_type": "code",
   "execution_count": 15,
   "metadata": {},
   "outputs": [
    {
     "name": "stdout",
     "output_type": "stream",
     "text": [
      "EB G7\n",
      "Fine Arts 212\n"
     ]
    }
   ],
   "source": [
    "class Student:\n",
    "    def __init__(self, name: str, b_number: str, major: str, position: str) -> None:\n",
    "        self.name = name\n",
    "        self.b_number = b_number\n",
    "        self.major = major\n",
    "        self.position = position\n",
    "        self.go_to_class(position)\n",
    "    \n",
    "    def go_to_class(self, class_location: str) -> None:\n",
    "        self.position = class_location\n",
    "        \n",
    "\n",
    "tom = Student(\"Tom\", \"B1001001\", \"Computer Science\", \"EB G7\")\n",
    "print(tom.position)\n",
    "tom.go_to_class(\"Fine Arts 212\")\n",
    "print(tom.position)"
   ]
  },
  {
   "cell_type": "markdown",
   "metadata": {},
   "source": [
    "# What's happening here?"
   ]
  },
  {
   "cell_type": "markdown",
   "metadata": {},
   "source": [
    "`class Student` declares a class called Student.\n",
    "\n",
    "`__init__` is the constructor of the object. It takes 4 parameters, the student's:\n",
    "    1. Full name\n",
    "    2. B-Number\n",
    "    3. Major\n",
    "    4. Position\n",
    "and sets the passed values to be its instance variables.\n",
    "\n",
    "We also declare a method called `go_to_class`. A method is just a function that belongs to a particular class. \n",
    "\n",
    "`go_to_class` changes the `self.position` instance variable to whatever the user passes. Hopefully it's the location of their classroom, not The Rat.\n",
    "\n",
    "We then create a `Student` object called `tom`, and pass Tom's information into the parameters.\n",
    "\n",
    "Lastly, we disrupt Tom's programming marathon in EB G7 and force him to go to class in the Fine Arts building."
   ]
  },
  {
   "cell_type": "markdown",
   "metadata": {},
   "source": [
    "# Let's try an example"
   ]
  },
  {
   "cell_type": "markdown",
   "metadata": {},
   "source": [
    "Create a class `Dog` that models a specific dog. It should hold a dog's name, breed, and year of birth. It should also have a method `bark()`, which prints \"woof\" to the console."
   ]
  },
  {
   "cell_type": "code",
   "execution_count": 17,
   "metadata": {},
   "outputs": [],
   "source": [
    "\n",
    "class Dog:\n",
    "    def __init__(self, name: str, breed: str, year_of_birth: int) -> None:\n",
    "        self.name = name\n",
    "        self.breed = breed\n",
    "        self.year_of_birth = year_of_birth\n",
    "    \n",
    "    def bark(self):\n",
    "        print(\"woof\")"
   ]
  },
  {
   "cell_type": "code",
   "execution_count": null,
   "metadata": {},
   "outputs": [],
   "source": []
  },
  {
   "cell_type": "code",
   "execution_count": null,
   "metadata": {},
   "outputs": [],
   "source": []
  },
  {
   "cell_type": "code",
   "execution_count": null,
   "metadata": {},
   "outputs": [],
   "source": []
  },
  {
   "cell_type": "code",
   "execution_count": null,
   "metadata": {},
   "outputs": [],
   "source": []
  },
  {
   "cell_type": "code",
   "execution_count": null,
   "metadata": {},
   "outputs": [],
   "source": []
  },
  {
   "cell_type": "code",
   "execution_count": null,
   "metadata": {},
   "outputs": [],
   "source": []
  }
 ],
 "metadata": {
  "kernelspec": {
   "display_name": "Python 3",
   "language": "python",
   "name": "python3"
  },
  "language_info": {
   "codemirror_mode": {
    "name": "ipython",
    "version": 3
   },
   "file_extension": ".py",
   "mimetype": "text/x-python",
   "name": "python",
   "nbconvert_exporter": "python",
   "pygments_lexer": "ipython3",
   "version": "3.6.5"
  }
 },
 "nbformat": 4,
 "nbformat_minor": 2
}
