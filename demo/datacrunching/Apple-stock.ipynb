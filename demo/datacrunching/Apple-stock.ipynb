{
 "cells": [
  {
   "cell_type": "code",
   "execution_count": null,
   "metadata": {
    "collapsed": true
   },
   "outputs": [],
   "source": [
    "%matplotlib inline\n",
    "import pandas as pd"
   ]
  },
  {
   "cell_type": "code",
   "execution_count": null,
   "metadata": {},
   "outputs": [],
   "source": [
    "f = open('apple_stock_snowday.json')\n",
    "import json\n",
    "data = pd.DataFrame( (json.loads(tick) for tick in f) ) #Expression in the ( ) is a python generator\n",
    "data"
   ]
  },
  {
   "cell_type": "code",
   "execution_count": null,
   "metadata": {},
   "outputs": [],
   "source": [
    "prices = data.lastSalePrice #we only really care about one column, most recent price\n",
    "prices.plot()"
   ]
  },
  {
   "cell_type": "code",
   "execution_count": null,
   "metadata": {},
   "outputs": [],
   "source": [
    "#We don't care about the overall price, we're trying to predict small fluxuations\n",
    "diffs = prices.diff() #Subtract each from the one before it\n",
    "diffs = diffs[ diffs != 0 ] #Not all rows have a price change, sometimes something else was updated.\n",
    "diffs.plot()\n",
    "#Stationary time series!"
   ]
  },
  {
   "cell_type": "code",
   "execution_count": null,
   "metadata": {},
   "outputs": [],
   "source": [
    "original_diffs = diffs.copy()\n",
    "diffs = diffs.apply(lambda x: x > 0) #Simplify things into just positive/negative as True/False\n",
    "diffs.hist()"
   ]
  },
  {
   "cell_type": "code",
   "execution_count": null,
   "metadata": {
    "collapsed": true
   },
   "outputs": [],
   "source": [
    "def training_generator():\n",
    "    window_size = 5\n",
    "    for i in range(0, len(diffs) - window_size):\n",
    "        yield {j: diffs.iloc[i+j] for j in range(window_size)}"
   ]
  },
  {
   "cell_type": "code",
   "execution_count": null,
   "metadata": {},
   "outputs": [],
   "source": [
    "generator = training_generator()\n",
    "df = pd.DataFrame(generator)\n",
    "df"
   ]
  },
  {
   "cell_type": "code",
   "execution_count": null,
   "metadata": {
    "collapsed": true
   },
   "outputs": [],
   "source": [
    "examples = df[[0,1,2,3]]\n",
    "answers = df[[4]][4]"
   ]
  },
  {
   "cell_type": "code",
   "execution_count": null,
   "metadata": {},
   "outputs": [],
   "source": [
    "from sklearn.tree import DecisionTreeClassifier\n",
    "clf = DecisionTreeClassifier()"
   ]
  },
  {
   "cell_type": "code",
   "execution_count": null,
   "metadata": {},
   "outputs": [],
   "source": [
    "clf.fit(examples, answers)\n",
    "predictions = clf.predict(examples)\n",
    "predictions"
   ]
  },
  {
   "cell_type": "code",
   "execution_count": null,
   "metadata": {},
   "outputs": [],
   "source": [
    "successes = predictions == answers\n",
    "successes"
   ]
  },
  {
   "cell_type": "code",
   "execution_count": null,
   "metadata": {},
   "outputs": [],
   "source": [
    "sum(successes) / len(examples) #Did we do better than random guessing?"
   ]
  },
  {
   "cell_type": "code",
   "execution_count": null,
   "metadata": {},
   "outputs": [],
   "source": [
    "#How much can we make?\n",
    "#we'll make the gaps as profit by buying/selling as appropriate, regardless of whether they were up or down\n",
    "potential_profits = original_diffs.abs() \n",
    "#first four rows were for training, [5] is the first we actually predicted\n",
    "potential_profits = potential_profits[5:]\n",
    "potential_profits = potential_profits.reset_index().lastSalePrice\n",
    "\n",
    "profits = sum(potential_profits[successes])\n",
    "losses = sum(potential_profits[~successes])\n",
    "num_shares = 1000\n",
    "net = (profits - losses) * num_shares\n",
    "round(net)"
   ]
  }
 ],
 "metadata": {
  "kernelspec": {
   "display_name": "Python 3",
   "language": "python",
   "name": "python3"
  },
  "language_info": {
   "codemirror_mode": {
    "name": "ipython",
    "version": 3
   },
   "file_extension": ".py",
   "mimetype": "text/x-python",
   "name": "python",
   "nbconvert_exporter": "python",
   "pygments_lexer": "ipython3",
   "version": "3.6.0"
  }
 },
 "nbformat": 4,
 "nbformat_minor": 2
}
